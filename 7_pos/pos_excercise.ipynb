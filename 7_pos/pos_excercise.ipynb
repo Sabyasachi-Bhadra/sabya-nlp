{
 "cells": [
  {
   "cell_type": "code",
   "execution_count": 1,
   "id": "cc7d0df5",
   "metadata": {},
   "outputs": [],
   "source": [
    "import spacy"
   ]
  },
  {
   "cell_type": "code",
   "execution_count": 2,
   "id": "f23b210f",
   "metadata": {},
   "outputs": [],
   "source": [
    "nlp = spacy.load(\"en_core_web_sm\")"
   ]
  },
  {
   "cell_type": "markdown",
   "id": "23277d2d",
   "metadata": {},
   "source": [
    "1) Extract all NOUN tokens from this story. You will have to read the file in python first to collect all the text and then extract NOUNs in a python list"
   ]
  },
  {
   "cell_type": "code",
   "execution_count": 55,
   "id": "e69ee162",
   "metadata": {},
   "outputs": [
    {
     "data": {
      "text/plain": [
       "[('Inflation', 'NOUN'),\n",
       " ('climb', 'NOUN'),\n",
       " ('consumers', 'NOUN'),\n",
       " ('brink', 'NOUN'),\n",
       " ('expansion', 'NOUN'),\n",
       " ('consumer', 'NOUN'),\n",
       " ('price', 'NOUN'),\n",
       " ('index', 'NOUN'),\n",
       " ('measure', 'NOUN'),\n",
       " ('prices', 'NOUN'),\n",
       " ('goods', 'NOUN'),\n",
       " ('services', 'NOUN'),\n",
       " ('%', 'NOUN'),\n",
       " ('year', 'NOUN'),\n",
       " ('estimate', 'NOUN'),\n",
       " ('%', 'NOUN'),\n",
       " ('gain', 'NOUN'),\n",
       " ('ease', 'NOUN'),\n",
       " ('Marchâ€', 'NOUN'),\n",
       " ('™', 'NOUN'),\n",
       " ('peak', 'NOUN'),\n",
       " ('level', 'NOUN'),\n",
       " ('summer', 'NOUN'),\n",
       " ('food', 'NOUN'),\n",
       " ('energy', 'NOUN'),\n",
       " ('prices', 'NOUN'),\n",
       " ('core', 'NOUN'),\n",
       " ('%', 'NOUN'),\n",
       " ('expectations', 'NOUN'),\n",
       " ('%', 'NOUN'),\n",
       " ('gain', 'NOUN'),\n",
       " ('hopes', 'NOUN'),\n",
       " ('inflation', 'NOUN'),\n",
       " ('month', 'NOUN'),\n",
       " ('month', 'NOUN'),\n",
       " ('gains', 'NOUN'),\n",
       " ('expectations', 'NOUN'),\n",
       " ('%', 'NOUN'),\n",
       " ('headline', 'NOUN'),\n",
       " ('%', 'NOUN'),\n",
       " ('estimate', 'NOUN'),\n",
       " ('%', 'NOUN'),\n",
       " ('increase', 'NOUN'),\n",
       " ('core', 'NOUN'),\n",
       " ('outlook', 'NOUN'),\n",
       " ('%', 'NOUN'),\n",
       " ('gain', 'NOUN'),\n",
       " ('price', 'NOUN'),\n",
       " ('gains', 'NOUN'),\n",
       " ('workers', 'NOUN'),\n",
       " ('ground', 'NOUN'),\n",
       " ('wages', 'NOUN'),\n",
       " ('inflation', 'NOUN'),\n",
       " ('%', 'NOUN'),\n",
       " ('month', 'NOUN'),\n",
       " ('increase', 'NOUN'),\n",
       " ('%', 'NOUN'),\n",
       " ('earnings', 'NOUN'),\n",
       " ('year', 'NOUN'),\n",
       " ('earnings', 'NOUN'),\n",
       " ('%', 'NOUN'),\n",
       " ('earnings', 'NOUN'),\n",
       " ('%', 'NOUN'),\n",
       " ('Inflation', 'NOUN'),\n",
       " ('threat', 'NOUN'),\n",
       " ('recovery', 'NOUN'),\n",
       " ('pandemic', 'NOUN'),\n",
       " ('economy', 'NOUN'),\n",
       " ('stage', 'NOUN'),\n",
       " ('year', 'NOUN'),\n",
       " ('growth', 'NOUN'),\n",
       " ('level', 'NOUN'),\n",
       " ('prices', 'NOUN'),\n",
       " ('pump', 'NOUN'),\n",
       " ('grocery', 'NOUN'),\n",
       " ('stores', 'NOUN'),\n",
       " ('problem', 'NOUN'),\n",
       " ('inflation', 'NOUN'),\n",
       " ('areas', 'NOUN'),\n",
       " ('housing', 'NOUN'),\n",
       " ('auto', 'NOUN'),\n",
       " ('sales', 'NOUN'),\n",
       " ('host', 'NOUN'),\n",
       " ('areas', 'NOUN'),\n",
       " ('officials', 'NOUN'),\n",
       " ('problem', 'NOUN'),\n",
       " ('interest', 'NOUN'),\n",
       " ('rate', 'NOUN'),\n",
       " ('hikes', 'NOUN'),\n",
       " ('year', 'NOUN'),\n",
       " ('pledges', 'NOUN'),\n",
       " ('inflation', 'NOUN'),\n",
       " ('%', 'NOUN'),\n",
       " ('goal', 'NOUN'),\n",
       " ('™', 'NOUN'),\n",
       " ('data', 'NOUN'),\n",
       " ('job', 'NOUN')]"
      ]
     },
     "execution_count": 55,
     "metadata": {},
     "output_type": "execute_result"
    }
   ],
   "source": [
    "with open(\"news_story.txt\") as f:\n",
    "    text = f.readlines()\n",
    "text = ' '.join(text)\n",
    "doc = nlp(text)\n",
    "nouns = [(token.text, token.pos_) for token in doc if token.pos_ == \"NOUN\"]\n",
    "nouns"
   ]
  },
  {
   "cell_type": "markdown",
   "id": "1c52c3b3",
   "metadata": {},
   "source": [
    "2) Extract all numbers (NUM POS type) in a python list"
   ]
  },
  {
   "cell_type": "code",
   "execution_count": 50,
   "id": "689004eb",
   "metadata": {},
   "outputs": [
    {
     "name": "stdout",
     "output_type": "stream",
     "text": [
      "NOUN | 97\n"
     ]
    }
   ],
   "source": [
    "count = doc.count_by(spacy.attrs.POS)\n",
    "for i, j in count.items():\n",
    "    if doc.vocab[i].text == 'NOUN':\n",
    "        print(doc.vocab[i].text, \"|\", j)"
   ]
  },
  {
   "cell_type": "markdown",
   "id": "a1893917",
   "metadata": {},
   "source": [
    "3) Print a count of all POS tags in this story"
   ]
  },
  {
   "cell_type": "code",
   "execution_count": 57,
   "id": "18f69ed6",
   "metadata": {},
   "outputs": [
    {
     "name": "stdout",
     "output_type": "stream",
     "text": [
      "NOUN | 97\n",
      "VERB | 27\n",
      "ADV | 15\n",
      "ADP | 39\n",
      "PROPN | 17\n",
      "PUNCT | 31\n",
      "DET | 34\n",
      "PRON | 4\n",
      "AUX | 13\n",
      "CCONJ | 10\n",
      "ADJ | 23\n",
      "SPACE | 6\n",
      "NUM | 20\n",
      "PART | 4\n",
      "SCONJ | 8\n"
     ]
    }
   ],
   "source": [
    "count = doc.count_by(spacy.attrs.POS)\n",
    "for i, j in count.items():\n",
    "        print(doc.vocab[i].text, \"|\", j)"
   ]
  },
  {
   "cell_type": "code",
   "execution_count": null,
   "id": "322c914e",
   "metadata": {},
   "outputs": [],
   "source": []
  },
  {
   "cell_type": "code",
   "execution_count": null,
   "id": "4ba0c539",
   "metadata": {},
   "outputs": [],
   "source": []
  }
 ],
 "metadata": {
  "kernelspec": {
   "display_name": "Python 3 (ipykernel)",
   "language": "python",
   "name": "python3"
  },
  "language_info": {
   "codemirror_mode": {
    "name": "ipython",
    "version": 3
   },
   "file_extension": ".py",
   "mimetype": "text/x-python",
   "name": "python",
   "nbconvert_exporter": "python",
   "pygments_lexer": "ipython3",
   "version": "3.10.9"
  }
 },
 "nbformat": 4,
 "nbformat_minor": 5
}
